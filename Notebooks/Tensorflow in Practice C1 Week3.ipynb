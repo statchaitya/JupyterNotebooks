{
 "cells": [
  {
   "cell_type": "markdown",
   "metadata": {},
   "source": [
    "# Tensorflow in Practice: Course 1 Week 3\n",
    "\n",
    "* In this Week we will learn how to train deep convolutional neural networks"
   ]
  },
  {
   "cell_type": "code",
   "execution_count": 3,
   "metadata": {},
   "outputs": [],
   "source": [
    "import tensorflow as tf\n",
    "from tensorflow import keras\n",
    "import numpy as np\n",
    "import time"
   ]
  },
  {
   "cell_type": "markdown",
   "metadata": {},
   "source": [
    "### Arguement breakdown for Conv2D layer\n",
    "\n",
    "* The first arguement is the number of fitlers we are telling keras to generate = 64\n",
    "* Second comes the shape of the filter i.e. (3, 3)\n",
    "* Third is selfexplanatory\n",
    "* Fourth is the shape of the input image. Notice that we have provided a third dimension as if there were 3 channels we would've provided 28, 28, 3\n",
    "\n",
    "\n",
    "1. filters\n",
    "2. kernel_size (f, f)\n",
    "3. strides\n",
    "4. padding: \"valid\" or \"same\"\n",
    "5. data_format (shape)\n",
    "6. **kwargs\n",
    "\n",
    "### Arguement breakdown for Maxpooling2D layer\n",
    "\n",
    "1. pool_size: int or tuple of 2 ints. window size over which to take the maximum. In the following code we have provided an int i.e 2\n",
    "2. strides: Integer, tuple of 2 ints or None. If None, defaults to pool_size. In the following code we have provided 2.\n",
    "3. padding: \"valid\" or \"same\" - case insensitive: defaults to valid\n",
    "    - \"same\" padding is the padding such that if s=1, the output shape is the same as input shape\n",
    "    - \"valid\" means no padding.\n",
    "\n",
    "### A few formulas for calculating the dimensions of the output from conv2d layer\n",
    "\n",
    "* If nH, nW are the height and width of input image (28, 28) in our case, p is the padding which is 0 in our case, s is the strides for convolutions (1 in our case), f is the filter height & width (3) & number of filter is given by nF (64 in our case) then\n",
    "    1. Number of channels in the output image = Number of filters (nF)\n",
    "    2. new nH & nW will be given by the formula\n",
    "        \n",
    "        nH = ((nH-1 + 2p - f)/s) + 1\n",
    "        nW = ((nW-1 + 2p - f)/s) + 1\n",
    "\n",
    "* Formula in 2 applies for maxpooling as well.\n",
    "* So for layer 2 maxpooling, the input will be of shape:\n",
    "    nH = ((28 + 0 - 3)/1) + 1 = 26\n",
    "    nW = 26\n",
    "\n",
    "* Output from Maxpooling2D will be:\n",
    "    nH = ((26 + 0 - 2)/2) + 1 = 13"
   ]
  },
  {
   "cell_type": "code",
   "execution_count": 13,
   "metadata": {},
   "outputs": [],
   "source": [
    "model = tf.keras.models.Sequential([\n",
    "    tf.keras.layers.Conv2D(64, (3,3), activation='relu', input_shape=(28, 28, 1)),\n",
    "    tf.keras.layers.MaxPooling2D(2, 2),\n",
    "    tf.keras.layers.Conv2D(64, (3,3), activation='relu'),\n",
    "    tf.keras.layers.MaxPooling2D(2, 2),\n",
    "    tf.keras.layers.Flatten(),\n",
    "    tf.keras.layers.Dense(128, activation='relu'),\n",
    "    tf.keras.layers.Dense(10, activation='softmax')\n",
    "])"
   ]
  },
  {
   "cell_type": "markdown",
   "metadata": {},
   "source": [
    "### model.summary() method\n",
    "\n",
    "* Allows you to inspect the layers of the model and see the journey of the image through the convolutions"
   ]
  },
  {
   "cell_type": "code",
   "execution_count": 14,
   "metadata": {},
   "outputs": [
    {
     "name": "stdout",
     "output_type": "stream",
     "text": [
      "Model: \"sequential_1\"\n",
      "_________________________________________________________________\n",
      "Layer (type)                 Output Shape              Param #   \n",
      "=================================================================\n",
      "conv2d_20 (Conv2D)           (None, 26, 26, 64)        640       \n",
      "_________________________________________________________________\n",
      "max_pooling2d_20 (MaxPooling (None, 13, 13, 64)        0         \n",
      "_________________________________________________________________\n",
      "conv2d_21 (Conv2D)           (None, 11, 11, 64)        36928     \n",
      "_________________________________________________________________\n",
      "max_pooling2d_21 (MaxPooling (None, 5, 5, 64)          0         \n",
      "_________________________________________________________________\n",
      "flatten_10 (Flatten)         (None, 1600)              0         \n",
      "_________________________________________________________________\n",
      "dense_20 (Dense)             (None, 128)               204928    \n",
      "_________________________________________________________________\n",
      "dense_21 (Dense)             (None, 10)                1290      \n",
      "=================================================================\n",
      "Total params: 243,786\n",
      "Trainable params: 243,786\n",
      "Non-trainable params: 0\n",
      "_________________________________________________________________\n"
     ]
    }
   ],
   "source": [
    "model.summary()"
   ]
  },
  {
   "cell_type": "markdown",
   "metadata": {},
   "source": [
    "* We can see for the first two layers **conv2d_20** and **max_pooling2d_20** we got the shape right i.e. 26 x 26 and 13 x 13.\n",
    "* So the input image enters conv2d_20 and exits into the max_pooling2d_20 as 26 x 26 x 64\n",
    "* Then for the maxpooling layer the output channels stay the same and it enters next conv2d layer as 13 x 13 x 64.\n",
    "* Then 11 x 11 x 64 out from another convd 2d.\n",
    "* Then next maxpooling2d reduces the image to 5 x 5 x 64 and finally the image is flattened.\n",
    "* See how **nH and nW decrease while nC i.e. the number of channels (filters) increase or remain the same but don't decrease**\n",
    "\n",
    "### Let us now apply this network to the mnist data"
   ]
  },
  {
   "cell_type": "code",
   "execution_count": 19,
   "metadata": {},
   "outputs": [
    {
     "name": "stdout",
     "output_type": "stream",
     "text": [
      "Epoch 1/5\n",
      "1875/1875 [==============================] - 130s 69ms/step - loss: 0.4383\n",
      "Epoch 2/5\n",
      "1875/1875 [==============================] - 115s 62ms/step - loss: 0.2938\n",
      "Epoch 3/5\n",
      "1875/1875 [==============================] - 127s 67ms/step - loss: 0.2494\n",
      "Epoch 4/5\n",
      "1875/1875 [==============================] - 124s 66ms/step - loss: 0.2163\n",
      "Epoch 5/5\n",
      "1875/1875 [==============================] - 118s 63ms/step - loss: 0.1893\n"
     ]
    },
    {
     "data": {
      "text/plain": [
       "<tensorflow.python.keras.callbacks.History at 0x1e7a7a962e8>"
      ]
     },
     "execution_count": 19,
     "metadata": {},
     "output_type": "execute_result"
    }
   ],
   "source": [
    "fashion_mnist = keras.datasets.fashion_mnist\n",
    "(train_images, train_labels), (test_images, test_labels) = fashion_mnist.load_data()\n",
    "train_images = train_images.reshape(60000, 28, 28, 1)\n",
    "train_images = train_images/255.0\n",
    "test_images = test_images.reshape(10000, 28, 28, 1)\n",
    "test_images = test_images/255.0\n",
    "\n",
    "model.compile(optimizer = tf.optimizers.Adam(),\n",
    "             loss = 'sparse_categorical_crossentropy')\n",
    "\n",
    "model.fit(train_images, train_labels, epochs=5)"
   ]
  },
  {
   "cell_type": "markdown",
   "metadata": {},
   "source": [
    "### Progress\n",
    "\n",
    "* Done half way till video 8\n",
    "\n",
    "### Next tasks\n",
    "\n",
    "* Implement your own call back\n",
    "    - Read more about call backs\n",
    "    - Understand how it works\n",
    "* Understand how to visualize convolutions\n",
    "    - Play around with the visualization\n",
    "    - Relate them to the knowledge you gained in DL.AI course\n",
    "    - Increase your intuition about images and pixels and image features"
   ]
  }
 ],
 "metadata": {
  "kernelspec": {
   "display_name": "Python 3",
   "language": "python",
   "name": "python3"
  },
  "language_info": {
   "codemirror_mode": {
    "name": "ipython",
    "version": 3
   },
   "file_extension": ".py",
   "mimetype": "text/x-python",
   "name": "python",
   "nbconvert_exporter": "python",
   "pygments_lexer": "ipython3",
   "version": "3.6.5"
  }
 },
 "nbformat": 4,
 "nbformat_minor": 4
}
