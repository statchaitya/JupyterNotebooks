{
 "cells": [
  {
   "cell_type": "markdown",
   "metadata": {},
   "source": [
    "# Tensorflow in Practice: Course 1 Week 3\n",
    "\n",
    "* In this Week we will learn how to train deep convolutional neural networks"
   ]
  },
  {
   "cell_type": "code",
   "execution_count": 1,
   "metadata": {},
   "outputs": [],
   "source": [
    "import tensorflow as tf\n",
    "from tensorflow import keras\n",
    "import numpy as np\n",
    "import time"
   ]
  },
  {
   "cell_type": "markdown",
   "metadata": {},
   "source": [
    "### Arguement breakdown for Conv2D layer\n",
    "\n",
    "* The first arguement is the number of fitlers we are telling keras to generate = 64\n",
    "* Second comes the shape of the filter i.e. (3, 3)\n",
    "* Third is selfexplanatory\n",
    "* Fourth is the shape of the input image. Notice that we have provided a third dimension because if there were 3 channels we would've provided 28, 28, 3\n",
    "\n",
    "\n",
    "1. filters\n",
    "2. kernel_size (f, f)\n",
    "3. strides\n",
    "4. padding: \"valid\" or \"same\"\n",
    "5. data_format (shape)\n",
    "6. **kwargs\n",
    "\n",
    "### Arguement breakdown for Maxpooling2D layer\n",
    "\n",
    "1. pool_size: int or tuple of 2 ints. window size over which to take the maximum. In the following code we have provided an int i.e 2\n",
    "2. strides: Integer, tuple of 2 ints or None. If None, defaults to pool_size. In the following code we have provided 2.\n",
    "3. padding: \"valid\" or \"same\" - case insensitive: defaults to valid\n",
    "    - \"same\" padding is the padding such that if s=1, the output shape is the same as input shape\n",
    "    - \"valid\" means no padding.\n",
    "\n",
    "### A few formulas for calculating the dimensions of the output from conv2d layer\n",
    "\n",
    "* If nH, nW are the height and width of input image (28, 28) in our case, p is the padding which is 0 in our case, s is the strides for convolutions (1 in our case), f is the filter height & width (3) & number of filter is given by nF (64 in our case) then\n",
    "    1. Number of channels in the output image = Number of filters (nF)\n",
    "    2. new nH & nW will be given by the formula\n",
    "        \n",
    "        nH = ((nH-1 + 2p - f)/s) + 1\n",
    "        nW = ((nW-1 + 2p - f)/s) + 1\n",
    "\n",
    "* Formula in 2 applies for maxpooling as well.\n",
    "* So for layer 2 maxpooling, the input will be of shape:\n",
    "    nH = ((28 + 0 - 3)/1) + 1 = 26\n",
    "    nW = 26\n",
    "\n",
    "* Output from Maxpooling2D will be:\n",
    "    nH = ((26 + 0 - 2)/2) + 1 = 13"
   ]
  },
  {
   "cell_type": "code",
   "execution_count": 49,
   "metadata": {},
   "outputs": [],
   "source": [
    "model = tf.keras.models.Sequential([\n",
    "    tf.keras.layers.Conv2D(64, (3,3), activation='relu', input_shape=(28, 28, 1)),\n",
    "    tf.keras.layers.MaxPooling2D(2, 2),\n",
    "    tf.keras.layers.Conv2D(64, (3,3), activation='relu'),\n",
    "    tf.keras.layers.MaxPooling2D(2, 2),\n",
    "    tf.keras.layers.Flatten(),\n",
    "    tf.keras.layers.Dense(128, activation='relu'),\n",
    "    tf.keras.layers.Dense(10, activation='softmax')\n",
    "])"
   ]
  },
  {
   "cell_type": "markdown",
   "metadata": {},
   "source": [
    "### model.summary() method\n",
    "\n",
    "* Allows you to inspect the layers of the model and see the journey of the image through the convolutions"
   ]
  },
  {
   "cell_type": "code",
   "execution_count": 50,
   "metadata": {},
   "outputs": [
    {
     "name": "stdout",
     "output_type": "stream",
     "text": [
      "Model: \"sequential_2\"\n",
      "_________________________________________________________________\n",
      "Layer (type)                 Output Shape              Param #   \n",
      "=================================================================\n",
      "conv2d_4 (Conv2D)            (None, 26, 26, 64)        640       \n",
      "_________________________________________________________________\n",
      "max_pooling2d_4 (MaxPooling2 (None, 13, 13, 64)        0         \n",
      "_________________________________________________________________\n",
      "conv2d_5 (Conv2D)            (None, 11, 11, 64)        36928     \n",
      "_________________________________________________________________\n",
      "max_pooling2d_5 (MaxPooling2 (None, 5, 5, 64)          0         \n",
      "_________________________________________________________________\n",
      "flatten_2 (Flatten)          (None, 1600)              0         \n",
      "_________________________________________________________________\n",
      "dense_4 (Dense)              (None, 128)               204928    \n",
      "_________________________________________________________________\n",
      "dense_5 (Dense)              (None, 10)                1290      \n",
      "=================================================================\n",
      "Total params: 243,786\n",
      "Trainable params: 243,786\n",
      "Non-trainable params: 0\n",
      "_________________________________________________________________\n"
     ]
    }
   ],
   "source": [
    "model.summary()"
   ]
  },
  {
   "cell_type": "markdown",
   "metadata": {},
   "source": [
    "* We can see for the first two layers **conv2d_20** and **max_pooling2d_20** we got the shape right i.e. 26 x 26 and 13 x 13.\n",
    "* So the input image enters conv2d_20 and exits into the max_pooling2d_20 as 26 x 26 x 64\n",
    "* Then for the maxpooling layer the output channels stay the same and it enters next conv2d layer as 13 x 13 x 64.\n",
    "* Then 11 x 11 x 64 out from another convd 2d.\n",
    "* Then next maxpooling2d reduces the image to 5 x 5 x 64 and finally the image is flattened.\n",
    "* See how **nH and nW decrease while nC i.e. the number of channels (filters) increase or remain the same but don't decrease**\n",
    "\n",
    "### Let us now apply this network to the mnist data"
   ]
  },
  {
   "cell_type": "code",
   "execution_count": 51,
   "metadata": {},
   "outputs": [],
   "source": [
    "fashion_mnist = keras.datasets.fashion_mnist\n",
    "(train_images, train_labels), (test_images, test_labels) = fashion_mnist.load_data()\n",
    "train_images = train_images.reshape(60000, 28, 28, 1)\n",
    "train_images = train_images/255.0\n",
    "test_images = test_images.reshape(10000, 28, 28, 1)\n",
    "test_images = test_images/255.0\n",
    "\n",
    "model.compile(optimizer = tf.optimizers.Adam(),\n",
    "             loss = 'sparse_categorical_crossentropy')\n",
    "\n",
    "#model.fit(train_images, train_labels, epochs=5)"
   ]
  },
  {
   "cell_type": "code",
   "execution_count": 34,
   "metadata": {},
   "outputs": [
    {
     "data": {
      "image/png": "[encoded data removed]",
      "text/plain": [
       "<Figure size 432x288 with 12 Axes>"
      ]
     },
     "metadata": {
      "needs_background": "light"
     },
     "output_type": "display_data"
    }
   ],
   "source": [
    "import matplotlib.pyplot as plt\n",
    "# This will generate a plot with 7 subplots 3 in rows and 4 in columns\n",
    "# The axes of each plot will be available in axarr list\n",
    "f, axarr = plt.subplots(3, 4)"
   ]
  },
  {
   "cell_type": "code",
   "execution_count": 6,
   "metadata": {},
   "outputs": [
    {
     "data": {
      "text/plain": [
       "array([[<matplotlib.axes._subplots.AxesSubplot object at 0x00000236D9EE8898>,\n",
       "        <matplotlib.axes._subplots.AxesSubplot object at 0x00000236DBF52BA8>,\n",
       "        <matplotlib.axes._subplots.AxesSubplot object at 0x00000236DBF89198>,\n",
       "        <matplotlib.axes._subplots.AxesSubplot object at 0x00000236DBFAF828>],\n",
       "       [<matplotlib.axes._subplots.AxesSubplot object at 0x00000236DBFD6EF0>,\n",
       "        <matplotlib.axes._subplots.AxesSubplot object at 0x00000236DC007588>,\n",
       "        <matplotlib.axes._subplots.AxesSubplot object at 0x00000236DC030C18>,\n",
       "        <matplotlib.axes._subplots.AxesSubplot object at 0x00000236DC05F2E8>],\n",
       "       [<matplotlib.axes._subplots.AxesSubplot object at 0x00000236DC086978>,\n",
       "        <matplotlib.axes._subplots.AxesSubplot object at 0x00000236DC0B8048>,\n",
       "        <matplotlib.axes._subplots.AxesSubplot object at 0x00000236DC0DE6D8>,\n",
       "        <matplotlib.axes._subplots.AxesSubplot object at 0x00000236DC104D68>]],\n",
       "      dtype=object)"
      ]
     },
     "execution_count": 6,
     "metadata": {},
     "output_type": "execute_result"
    }
   ],
   "source": [
    "axarr"
   ]
  },
  {
   "cell_type": "code",
   "execution_count": 9,
   "metadata": {},
   "outputs": [
    {
     "data": {
      "text/plain": [
       "[<tensorflow.python.keras.layers.convolutional.Conv2D at 0x236c7554cf8>,\n",
       " <tensorflow.python.keras.layers.pooling.MaxPooling2D at 0x236d0c5b2b0>,\n",
       " <tensorflow.python.keras.layers.convolutional.Conv2D at 0x236d632b1d0>,\n",
       " <tensorflow.python.keras.layers.pooling.MaxPooling2D at 0x236d632b470>,\n",
       " <tensorflow.python.keras.layers.core.Flatten at 0x236d632b5f8>,\n",
       " <tensorflow.python.keras.layers.core.Dense at 0x236d632b780>,\n",
       " <tensorflow.python.keras.layers.core.Dense at 0x236d632b9e8>]"
      ]
     },
     "execution_count": 9,
     "metadata": {},
     "output_type": "execute_result"
    }
   ],
   "source": [
    "FIRST_IMAGE = 0\n",
    "SECOND_IMAGE = 23\n",
    "THIRD_IMAGE = 28\n",
    "FILTER_NUMBER = 1\n",
    "from tensorflow.keras import models\n",
    "# Creates a list of layer outputs for each layer in models module\n",
    "layer_outputs = [layer.output for layer in model.layers]\n",
    "model.layers"
   ]
  },
  {
   "cell_type": "markdown",
   "metadata": {},
   "source": [
    "* So when we create a model object from tf.keras.models, the **model.layers** method returns all the layers and where a memory location has been allocated for that layer in a list"
   ]
  },
  {
   "cell_type": "code",
   "execution_count": 10,
   "metadata": {},
   "outputs": [
    {
     "data": {
      "text/plain": [
       "<tf.Tensor 'conv2d_input:0' shape=(None, 28, 28, 1) dtype=float32>"
      ]
     },
     "execution_count": 10,
     "metadata": {},
     "output_type": "execute_result"
    }
   ],
   "source": [
    "activation_model = tf.keras.models.Model(inputs = model.input, outputs = layer_outputs)\n",
    "model.input"
   ]
  },
  {
   "cell_type": "markdown",
   "metadata": {},
   "source": [
    "* Similtaneously model.input attribute is also created and returns an empty tensor having the shape defined by us for the input\n",
    "\n",
    "### But hang on.. what is tf.keras.models.Model? Here is what textbooks says\n",
    "\n",
    "* In order to extract the feature maps you want to look at, you’ll create a Keras model that takes batches of images as input, and outputs the activations of all convolution and pooling layers. To do this, you’ll use the Keras class Model.\n",
    "* A **Model** is instantiated using two arguements, an input tensor (or a list of input tensors) and an output tensor (or a list of output tensors).\n",
    "* Above we have instantiated it with an input tensor and a list of output tensors.\n",
    "* Once you instantiate it, you have a keras model similar to Sequential but what sets it apart is that it can give us multiple outputs.\n",
    "* Rough self-understanding: \n",
    "    1. When a model (sequential or otherwise) is created, empty tensors of specific shape are also created as inputs and outputs. Like above, even before fitting **model** we got the detailed shapes at each layers using **model.summary()**. So empty tensors were already initiated.\n",
    "    2. Now using tf.keras.models.Model() what we are doing is, we are giving it 1 input and tell this new object to give outputs at each layer. And to do that we extract empty tensors and their shapes from each layer in model. Hence, each element of layer_outputs is a model.layer.output which is essentially a tensor."
   ]
  },
  {
   "cell_type": "code",
   "execution_count": 11,
   "metadata": {},
   "outputs": [
    {
     "data": {
      "text/plain": [
       "tensorflow.python.keras.engine.training.Model"
      ]
     },
     "execution_count": 11,
     "metadata": {},
     "output_type": "execute_result"
    }
   ],
   "source": [
    "type(activation_model)"
   ]
  },
  {
   "cell_type": "markdown",
   "metadata": {},
   "source": [
    "### Visualizing 1 channel of the convolution output\n",
    "\n",
    "* We know that a convolution layer produces an output height x width x channels (shape is 1 x height x width x channels)\n",
    "* Now what we are essentially going to do using the above set up is that we are going to extract the output of a layer and try to plot 1 channel of it. So essentially we will be able to visualize what results were given to us **by convoluting 1 filter over input from previous layer**\n",
    "* **activation_model.predict(image) gives us a list of activations obtained at each layer**\n",
    "* Following we are slicing activations obtained at the output of the first layer"
   ]
  },
  {
   "cell_type": "code",
   "execution_count": 20,
   "metadata": {},
   "outputs": [],
   "source": [
    "fexample = activation_model.predict(test_images[0].reshape(1, 28, 28, 1))[0]"
   ]
  },
  {
   "cell_type": "code",
   "execution_count": 21,
   "metadata": {},
   "outputs": [
    {
     "data": {
      "text/plain": [
       "(1, 26, 26, 64)"
      ]
     },
     "execution_count": 21,
     "metadata": {},
     "output_type": "execute_result"
    }
   ],
   "source": [
    "fexample.shape"
   ]
  },
  {
   "cell_type": "markdown",
   "metadata": {},
   "source": [
    "* Now we will visualize the first feature captured by conv first layer's first filter"
   ]
  },
  {
   "cell_type": "code",
   "execution_count": 27,
   "metadata": {},
   "outputs": [
    {
     "data": {
      "text/plain": [
       "<matplotlib.image.AxesImage at 0x236f774e6d8>"
      ]
     },
     "execution_count": 27,
     "metadata": {},
     "output_type": "execute_result"
    },
    {
     "data": {
      "image/png": "[encoded data removed]",
      "text/plain": [
       "<Figure size 288x288 with 1 Axes>"
      ]
     },
     "metadata": {
      "needs_background": "light"
     },
     "output_type": "display_data"
    }
   ],
   "source": [
    "import matplotlib.pyplot as plt2\n",
    "plt2.matshow(fexample[0, :, :, 1], cmap='viridis')"
   ]
  },
  {
   "cell_type": "markdown",
   "metadata": {},
   "source": [
    "* So this is what the first feature has given us. At the outset it is looking as a shoe. \n",
    "* Now we will put everything together as follows"
   ]
  },
  {
   "cell_type": "code",
   "execution_count": 33,
   "metadata": {},
   "outputs": [],
   "source": [
    "for x in range(4):\n",
    "    f1 = activation_model.predict(test_images[FIRST_IMAGE].reshape(1, 28, 28, 1))[x]\n",
    "    axarr[0, x].imshow(f1[0, :, :, FILTER_NUMBER], cmap='inferno')\n",
    "    axarr[0, x].grid(False)\n",
    "    f2 = activation_model.predict(test_images[SECOND_IMAGE].reshape(1, 28, 28, 1))[x]\n",
    "    axarr[1, x].imshow(f2[0, :, :, FILTER_NUMBER], cmap='inferno')\n",
    "    axarr[1, x].grid(False)\n",
    "    f3 = activation_model.predict(test_images[THIRD_IMAGE].reshape(1, 28, 28, 1))[x]\n",
    "    axarr[2, x].imshow(f3[0, :, :, FILTER_NUMBER], cmap='inferno')\n",
    "    axarr[2, x].grid(False)"
   ]
  },
  {
   "cell_type": "code",
   "execution_count": 42,
   "metadata": {},
   "outputs": [
    {
     "data": {
      "image/png": "[encoded data removed]",
      "text/plain": [
       "<Figure size 720x720 with 12 Axes>"
      ]
     },
     "metadata": {
      "needs_background": "light"
     },
     "output_type": "display_data"
    }
   ],
   "source": [
    "import matplotlib.pyplot as plt\n",
    "# This will generate a plot with 7 subplots 3 in rows and 4 in columns\n",
    "# The axes of each plot will be available in axarr list\n",
    "f, axarr = plt.subplots(3, 4)\n",
    "f.set_size_inches(10, 10)\n",
    "FIRST_IMAGE = 0\n",
    "SECOND_IMAGE = 1\n",
    "THIRD_IMAGE = 2\n",
    "FILTER_NUMBER = 1\n",
    "from tensorflow.keras import models\n",
    "# Creates a list of layer outputs for each layer in models module\n",
    "layer_outputs = [layer.output for layer in model.layers]\n",
    "activation_model = tf.keras.models.Model(inputs = model.input, outputs = layer_outputs)\n",
    "for x in range(4):\n",
    "    # x = layer number\n",
    "    f1 = activation_model.predict(test_images[FIRST_IMAGE].reshape(1, 28, 28, 1))[x]\n",
    "    axarr[0, x].imshow(f1[0, :, :, FILTER_NUMBER], cmap='inferno')\n",
    "    axarr[0, x].grid(False)\n",
    "    f2 = activation_model.predict(test_images[SECOND_IMAGE].reshape(1, 28, 28, 1))[x]\n",
    "    axarr[1, x].imshow(f2[0, :, :, FILTER_NUMBER], cmap='inferno')\n",
    "    axarr[1, x].grid(False)\n",
    "    f3 = activation_model.predict(test_images[THIRD_IMAGE].reshape(1, 28, 28, 1))[x]\n",
    "    axarr[2, x].imshow(f3[0, :, :, FILTER_NUMBER], cmap='inferno')\n",
    "    axarr[2, x].grid(False)\n"
   ]
  },
  {
   "cell_type": "markdown",
   "metadata": {},
   "source": [
    "### Interpreting the above plot\n",
    "\n",
    "* So in the above plot across columns are **layers** and across rows are **different images**. col 1 = layer 1, col 2 = layer 2 and so on..\n",
    "* So accross the first row we can see how the activations of **FILTER_NUMBER=1** proceeded for image 1 and for the second image we can refer to row 2.\n",
    "* Now we see that in layer 3 and 4, we are getting very bad outputs for all 3 images. Why can this be? We have fitted 5 epochs and our loss is **0.19**. Can this be because we are overfitting? Lets look at what output we get when we train only 1 epochs"
   ]
  },
  {
   "cell_type": "code",
   "execution_count": 52,
   "metadata": {},
   "outputs": [
    {
     "name": "stdout",
     "output_type": "stream",
     "text": [
      "1875/1875 [==============================] - 112s 60ms/step - loss: 0.4448\n"
     ]
    },
    {
     "data": {
      "text/plain": [
       "<tensorflow.python.keras.callbacks.History at 0x236f86cf898>"
      ]
     },
     "execution_count": 52,
     "metadata": {},
     "output_type": "execute_result"
    }
   ],
   "source": [
    "model.fit(train_images, train_labels, epochs=1)"
   ]
  },
  {
   "cell_type": "markdown",
   "metadata": {},
   "source": [
    "* Our loss after training 1 epoch is 0.4448"
   ]
  },
  {
   "cell_type": "code",
   "execution_count": 56,
   "metadata": {},
   "outputs": [
    {
     "data": {
      "image/png": "[encoded data removed]",
      "text/plain": [
       "<Figure size 720x720 with 12 Axes>"
      ]
     },
     "metadata": {
      "needs_background": "light"
     },
     "output_type": "display_data"
    }
   ],
   "source": [
    "import matplotlib.pyplot as plt\n",
    "# This will generate a plot with 7 subplots 3 in rows and 4 in columns\n",
    "# The axes of each plot will be available in axarr list\n",
    "f, axarr = plt.subplots(3, 4)\n",
    "f.set_size_inches(10, 10)\n",
    "FIRST_IMAGE = 2\n",
    "SECOND_IMAGE = 3\n",
    "THIRD_IMAGE = 5\n",
    "FILTER_NUMBER = 26\n",
    "from tensorflow.keras import models\n",
    "# Creates a list of layer outputs for each layer in models module\n",
    "layer_outputs = [layer.output for layer in model.layers]\n",
    "activation_model = tf.keras.models.Model(inputs = model.input, outputs = layer_outputs)\n",
    "for x in range(4):\n",
    "    # x = layer number\n",
    "    f1 = activation_model.predict(test_images[FIRST_IMAGE].reshape(1, 28, 28, 1))[x]\n",
    "    axarr[0, x].imshow(f1[0, :, :, FILTER_NUMBER], cmap='inferno')\n",
    "    axarr[0, x].grid(False)\n",
    "    f2 = activation_model.predict(test_images[SECOND_IMAGE].reshape(1, 28, 28, 1))[x]\n",
    "    axarr[1, x].imshow(f2[0, :, :, FILTER_NUMBER], cmap='inferno')\n",
    "    axarr[1, x].grid(False)\n",
    "    f3 = activation_model.predict(test_images[THIRD_IMAGE].reshape(1, 28, 28, 1))[x]\n",
    "    axarr[2, x].imshow(f3[0, :, :, FILTER_NUMBER], cmap='inferno')\n",
    "    axarr[2, x].grid(False)"
   ]
  },
  {
   "cell_type": "code",
   "execution_count": 41,
   "metadata": {},
   "outputs": [
    {
     "data": {
      "text/plain": [
       "array([9, 2, 1, 1, 6], dtype=uint8)"
      ]
     },
     "execution_count": 41,
     "metadata": {},
     "output_type": "execute_result"
    }
   ],
   "source": [
    "test_labels[:5]"
   ]
  },
  {
   "cell_type": "markdown",
   "metadata": {},
   "source": [
    "### Progress\n",
    "\n",
    "* 8th video completed. Still need to play a bit more here to understand how the convolutions are working\n",
    "* Completed auditing video 9. It again has experiments like above.\n",
    "* In the above experiements the layers had a lot of filter 64.\n",
    "* In the video 9 it is easier to experiment and understand as there is slightly less confusion."
   ]
  }
 ],
 "metadata": {
  "kernelspec": {
   "display_name": "Python 3",
   "language": "python",
   "name": "python3"
  },
  "language_info": {
   "codemirror_mode": {
    "name": "ipython",
    "version": 3
   },
   "file_extension": ".py",
   "mimetype": "text/x-python",
   "name": "python",
   "nbconvert_exporter": "python",
   "pygments_lexer": "ipython3",
   "version": "3.6.5"
  }
 },
 "nbformat": 4,
 "nbformat_minor": 4
}
