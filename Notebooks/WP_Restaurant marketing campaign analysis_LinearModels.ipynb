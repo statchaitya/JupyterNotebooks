{
 "cells": [
  {
   "cell_type": "markdown",
   "metadata": {},
   "source": [
    "# <u> <center> Restaurant Marketing Campaign Analysis </center> </u> \n",
    "\n",
    "##  <center> Data Snapshot</center>"
   ]
  },
  {
   "cell_type": "code",
   "execution_count": 1,
   "metadata": {},
   "outputs": [
    {
     "name": "stderr",
     "output_type": "stream",
     "text": [
      "Warning message:\n",
      "\"package 'dplyr' was built under R version 3.4.4\""
     ]
    },
    {
     "name": "stdout",
     "output_type": "stream",
     "text": [
      "Observations: 548\n",
      "Variables: 7\n",
      "$ MarketID         <int> 1, 1, 1, 1, 1, 1, 1, 1, 1, 1, 1, 1, 1, 1, 1, 1, 1,...\n",
      "$ MarketSize       <fct> Medium, Medium, Medium, Medium, Medium, Medium, Me...\n",
      "$ LocationID       <int> 1, 1, 1, 1, 2, 2, 2, 2, 3, 3, 3, 3, 4, 4, 4, 4, 5,...\n",
      "$ AgeOfStore       <int> 4, 4, 4, 4, 5, 5, 5, 5, 12, 12, 12, 12, 1, 1, 1, 1...\n",
      "$ Promotion        <int> 3, 3, 3, 3, 2, 2, 2, 2, 1, 1, 1, 1, 2, 2, 2, 2, 2,...\n",
      "$ Week             <int> 1, 2, 3, 4, 1, 2, 3, 4, 1, 2, 3, 4, 1, 2, 3, 4, 1,...\n",
      "$ SalesInThousands <dbl> 33.73, 35.67, 29.03, 39.25, 27.81, 34.67, 27.98, 2...\n"
     ]
    }
   ],
   "source": [
    "suppressMessages(library(dplyr))\n",
    "setwd(\"C:/eLearning/Interview-prep/Uber/\")\n",
    "\n",
    "data = read.csv(\"food_train.csv\", header=T)\n",
    "glimpse(data)"
   ]
  },
  {
   "cell_type": "markdown",
   "metadata": {},
   "source": [
    "## What is the data all about\n",
    "\n",
    "* **Scenario:** A company plans to launch a new product. However, they are still undecided between three possible marketing campaigns for promoting the new product. In order to determine which promotion has the greatest effect on sales, the new productt is introduced at locations in several randomly selected markets. A different promotion is used at each location, and the weekly sales of the new product are recorded for the first four weeks.\n",
    "\n",
    "\n",
    "* **Variables:**\n",
    "    1. Market ID - Unique identifier for the market\n",
    "    2. Market Size - Size of the selected market (Small, Medium, Large)\n",
    "    3. Location ID - Unique identifier for store location\n",
    "    4. AgeOfStore - Age of Store in years\n",
    "    5. Promotion - The ID of the promotion tested (1,2,3)\n",
    "    6. week - One of the four weeks promotions were run (1,2,3,4)\n",
    "    7. SalesInThousands - Sales amount for a particular Location ID - Promotion and week."
   ]
  },
  {
   "cell_type": "code",
   "execution_count": 2,
   "metadata": {},
   "outputs": [
    {
     "data": {
      "text/html": [
       "<table>\n",
       "<thead><tr><th scope=col>MarketID</th><th scope=col>MarketSize</th><th scope=col>LocationID</th><th scope=col>AgeOfStore</th><th scope=col>Promotion</th><th scope=col>Week</th><th scope=col>SalesInThousands</th></tr></thead>\n",
       "<tbody>\n",
       "\t<tr><td>1     </td><td>Medium</td><td>1     </td><td>4     </td><td>3     </td><td>1     </td><td>33.73 </td></tr>\n",
       "\t<tr><td>1     </td><td>Medium</td><td>1     </td><td>4     </td><td>3     </td><td>2     </td><td>35.67 </td></tr>\n",
       "\t<tr><td>1     </td><td>Medium</td><td>1     </td><td>4     </td><td>3     </td><td>3     </td><td>29.03 </td></tr>\n",
       "\t<tr><td>1     </td><td>Medium</td><td>1     </td><td>4     </td><td>3     </td><td>4     </td><td>39.25 </td></tr>\n",
       "\t<tr><td>1     </td><td>Medium</td><td>2     </td><td>5     </td><td>2     </td><td>1     </td><td>27.81 </td></tr>\n",
       "\t<tr><td>1     </td><td>Medium</td><td>2     </td><td>5     </td><td>2     </td><td>2     </td><td>34.67 </td></tr>\n",
       "</tbody>\n",
       "</table>\n"
      ],
      "text/latex": [
       "\\begin{tabular}{r|lllllll}\n",
       " MarketID & MarketSize & LocationID & AgeOfStore & Promotion & Week & SalesInThousands\\\\\n",
       "\\hline\n",
       "\t 1      & Medium & 1      & 4      & 3      & 1      & 33.73 \\\\\n",
       "\t 1      & Medium & 1      & 4      & 3      & 2      & 35.67 \\\\\n",
       "\t 1      & Medium & 1      & 4      & 3      & 3      & 29.03 \\\\\n",
       "\t 1      & Medium & 1      & 4      & 3      & 4      & 39.25 \\\\\n",
       "\t 1      & Medium & 2      & 5      & 2      & 1      & 27.81 \\\\\n",
       "\t 1      & Medium & 2      & 5      & 2      & 2      & 34.67 \\\\\n",
       "\\end{tabular}\n"
      ],
      "text/markdown": [
       "\n",
       "MarketID | MarketSize | LocationID | AgeOfStore | Promotion | Week | SalesInThousands | \n",
       "|---|---|---|---|---|---|\n",
       "| 1      | Medium | 1      | 4      | 3      | 1      | 33.73  | \n",
       "| 1      | Medium | 1      | 4      | 3      | 2      | 35.67  | \n",
       "| 1      | Medium | 1      | 4      | 3      | 3      | 29.03  | \n",
       "| 1      | Medium | 1      | 4      | 3      | 4      | 39.25  | \n",
       "| 1      | Medium | 2      | 5      | 2      | 1      | 27.81  | \n",
       "| 1      | Medium | 2      | 5      | 2      | 2      | 34.67  | \n",
       "\n",
       "\n"
      ],
      "text/plain": [
       "  MarketID MarketSize LocationID AgeOfStore Promotion Week SalesInThousands\n",
       "1 1        Medium     1          4          3         1    33.73           \n",
       "2 1        Medium     1          4          3         2    35.67           \n",
       "3 1        Medium     1          4          3         3    29.03           \n",
       "4 1        Medium     1          4          3         4    39.25           \n",
       "5 1        Medium     2          5          2         1    27.81           \n",
       "6 1        Medium     2          5          2         2    34.67           "
      ]
     },
     "metadata": {},
     "output_type": "display_data"
    }
   ],
   "source": [
    "head(data)"
   ]
  },
  {
   "cell_type": "markdown",
   "metadata": {},
   "source": [
    "## Business objective\n",
    "\n",
    "* Identify the factors affecting the variation in Sales.\n",
    "\n",
    "\n",
    "### 1. Linear Regression\n",
    "\n",
    "* Let us use linear regression to see what is causing the variation in Sales\n",
    "* **Steps**:\n",
    "    * One hot encode the categorical features.\n",
    "    * Variable selection amongst 150 odd features.\n",
    "    * Multicollinearity and Influential observation diagnostics.\n",
    "    * Analyze the linearity assumptions.\n",
    "    * Report the results.\n",
    "\n",
    "\n",
    "* Calling required packages"
   ]
  },
  {
   "cell_type": "code",
   "execution_count": 3,
   "metadata": {},
   "outputs": [
    {
     "name": "stderr",
     "output_type": "stream",
     "text": [
      "Warning message:\n",
      "\"package 'ggplot2' was built under R version 3.4.4\"Warning message:\n",
      "\"package 'recipes' was built under R version 3.4.4\"Warning message:\n",
      "\"package 'broom' was built under R version 3.4.4\"Warning message:\n",
      "\"package 'rsample' was built under R version 3.4.4\"Warning message:\n",
      "\"package 'tidyr' was built under R version 3.4.4\"Warning message:\n",
      "\"package 'leaps' was built under R version 3.4.4\""
     ]
    }
   ],
   "source": [
    "suppressMessages(library(ggplot2))\n",
    "suppressMessages(library(recipes))\n",
    "suppressMessages(library(caret))\n",
    "suppressMessages(library(rsample))\n",
    "suppressMessages(library(leaps))\n",
    "suppressMessages(library(MASS))"
   ]
  },
  {
   "cell_type": "markdown",
   "metadata": {},
   "source": [
    "### <u> <center> a. One hot encode the categorical features </center> </u>"
   ]
  },
  {
   "cell_type": "code",
   "execution_count": 4,
   "metadata": {},
   "outputs": [
    {
     "data": {
      "text/html": [
       "<table>\n",
       "<thead><tr><th scope=col>AgeOfStore</th><th scope=col>SalesInThousands</th><th scope=col>MarketID_X2</th><th scope=col>MarketID_X3</th><th scope=col>MarketID_X4</th><th scope=col>MarketID_X5</th><th scope=col>MarketID_X6</th><th scope=col>MarketID_X7</th><th scope=col>MarketID_X8</th><th scope=col>MarketID_X9</th><th scope=col>...</th><th scope=col>LocationID_X916</th><th scope=col>LocationID_X917</th><th scope=col>LocationID_X918</th><th scope=col>LocationID_X919</th><th scope=col>LocationID_X920</th><th scope=col>Promotion_X2</th><th scope=col>Promotion_X3</th><th scope=col>Week_X2</th><th scope=col>Week_X3</th><th scope=col>Week_X4</th></tr></thead>\n",
       "<tbody>\n",
       "\t<tr><td>4    </td><td>35.67</td><td>0    </td><td>0    </td><td>0    </td><td>0    </td><td>0    </td><td>0    </td><td>0    </td><td>0    </td><td>...  </td><td>0    </td><td>0    </td><td>0    </td><td>0    </td><td>0    </td><td>0    </td><td>1    </td><td>1    </td><td>0    </td><td>0    </td></tr>\n",
       "\t<tr><td>4    </td><td>29.03</td><td>0    </td><td>0    </td><td>0    </td><td>0    </td><td>0    </td><td>0    </td><td>0    </td><td>0    </td><td>...  </td><td>0    </td><td>0    </td><td>0    </td><td>0    </td><td>0    </td><td>0    </td><td>1    </td><td>0    </td><td>1    </td><td>0    </td></tr>\n",
       "\t<tr><td>4    </td><td>39.25</td><td>0    </td><td>0    </td><td>0    </td><td>0    </td><td>0    </td><td>0    </td><td>0    </td><td>0    </td><td>...  </td><td>0    </td><td>0    </td><td>0    </td><td>0    </td><td>0    </td><td>0    </td><td>1    </td><td>0    </td><td>0    </td><td>1    </td></tr>\n",
       "\t<tr><td>5    </td><td>27.81</td><td>0    </td><td>0    </td><td>0    </td><td>0    </td><td>0    </td><td>0    </td><td>0    </td><td>0    </td><td>...  </td><td>0    </td><td>0    </td><td>0    </td><td>0    </td><td>0    </td><td>1    </td><td>0    </td><td>0    </td><td>0    </td><td>0    </td></tr>\n",
       "\t<tr><td>5    </td><td>34.67</td><td>0    </td><td>0    </td><td>0    </td><td>0    </td><td>0    </td><td>0    </td><td>0    </td><td>0    </td><td>...  </td><td>0    </td><td>0    </td><td>0    </td><td>0    </td><td>0    </td><td>1    </td><td>0    </td><td>1    </td><td>0    </td><td>0    </td></tr>\n",
       "\t<tr><td>5    </td><td>27.98</td><td>0    </td><td>0    </td><td>0    </td><td>0    </td><td>0    </td><td>0    </td><td>0    </td><td>0    </td><td>...  </td><td>0    </td><td>0    </td><td>0    </td><td>0    </td><td>0    </td><td>1    </td><td>0    </td><td>0    </td><td>1    </td><td>0    </td></tr>\n",
       "</tbody>\n",
       "</table>\n"
      ],
      "text/latex": [
       "\\begin{tabular}{r|llllllllllllllllllllllllllllllllllllllllllllllllllllllllllllllllllllllllllllllllllllllllllllllllllllllllllllllllllllllllllllllllllllllllllllllllllllllllll}\n",
       " AgeOfStore & SalesInThousands & MarketID\\_X2 & MarketID\\_X3 & MarketID\\_X4 & MarketID\\_X5 & MarketID\\_X6 & MarketID\\_X7 & MarketID\\_X8 & MarketID\\_X9 & ... & LocationID\\_X916 & LocationID\\_X917 & LocationID\\_X918 & LocationID\\_X919 & LocationID\\_X920 & Promotion\\_X2 & Promotion\\_X3 & Week\\_X2 & Week\\_X3 & Week\\_X4\\\\\n",
       "\\hline\n",
       "\t 4     & 35.67 & 0     & 0     & 0     & 0     & 0     & 0     & 0     & 0     & ...   & 0     & 0     & 0     & 0     & 0     & 0     & 1     & 1     & 0     & 0    \\\\\n",
       "\t 4     & 29.03 & 0     & 0     & 0     & 0     & 0     & 0     & 0     & 0     & ...   & 0     & 0     & 0     & 0     & 0     & 0     & 1     & 0     & 1     & 0    \\\\\n",
       "\t 4     & 39.25 & 0     & 0     & 0     & 0     & 0     & 0     & 0     & 0     & ...   & 0     & 0     & 0     & 0     & 0     & 0     & 1     & 0     & 0     & 1    \\\\\n",
       "\t 5     & 27.81 & 0     & 0     & 0     & 0     & 0     & 0     & 0     & 0     & ...   & 0     & 0     & 0     & 0     & 0     & 1     & 0     & 0     & 0     & 0    \\\\\n",
       "\t 5     & 34.67 & 0     & 0     & 0     & 0     & 0     & 0     & 0     & 0     & ...   & 0     & 0     & 0     & 0     & 0     & 1     & 0     & 1     & 0     & 0    \\\\\n",
       "\t 5     & 27.98 & 0     & 0     & 0     & 0     & 0     & 0     & 0     & 0     & ...   & 0     & 0     & 0     & 0     & 0     & 1     & 0     & 0     & 1     & 0    \\\\\n",
       "\\end{tabular}\n"
      ],
      "text/markdown": [
       "\n",
       "AgeOfStore | SalesInThousands | MarketID_X2 | MarketID_X3 | MarketID_X4 | MarketID_X5 | MarketID_X6 | MarketID_X7 | MarketID_X8 | MarketID_X9 | ... | LocationID_X916 | LocationID_X917 | LocationID_X918 | LocationID_X919 | LocationID_X920 | Promotion_X2 | Promotion_X3 | Week_X2 | Week_X3 | Week_X4 | \n",
       "|---|---|---|---|---|---|\n",
       "| 4     | 35.67 | 0     | 0     | 0     | 0     | 0     | 0     | 0     | 0     | ...   | 0     | 0     | 0     | 0     | 0     | 0     | 1     | 1     | 0     | 0     | \n",
       "| 4     | 29.03 | 0     | 0     | 0     | 0     | 0     | 0     | 0     | 0     | ...   | 0     | 0     | 0     | 0     | 0     | 0     | 1     | 0     | 1     | 0     | \n",
       "| 4     | 39.25 | 0     | 0     | 0     | 0     | 0     | 0     | 0     | 0     | ...   | 0     | 0     | 0     | 0     | 0     | 0     | 1     | 0     | 0     | 1     | \n",
       "| 5     | 27.81 | 0     | 0     | 0     | 0     | 0     | 0     | 0     | 0     | ...   | 0     | 0     | 0     | 0     | 0     | 1     | 0     | 0     | 0     | 0     | \n",
       "| 5     | 34.67 | 0     | 0     | 0     | 0     | 0     | 0     | 0     | 0     | ...   | 0     | 0     | 0     | 0     | 0     | 1     | 0     | 1     | 0     | 0     | \n",
       "| 5     | 27.98 | 0     | 0     | 0     | 0     | 0     | 0     | 0     | 0     | ...   | 0     | 0     | 0     | 0     | 0     | 1     | 0     | 0     | 1     | 0     | \n",
       "\n",
       "\n"
      ],
      "text/plain": [
       "  AgeOfStore SalesInThousands MarketID_X2 MarketID_X3 MarketID_X4 MarketID_X5\n",
       "1 4          35.67            0           0           0           0          \n",
       "2 4          29.03            0           0           0           0          \n",
       "3 4          39.25            0           0           0           0          \n",
       "4 5          27.81            0           0           0           0          \n",
       "5 5          34.67            0           0           0           0          \n",
       "6 5          27.98            0           0           0           0          \n",
       "  MarketID_X6 MarketID_X7 MarketID_X8 MarketID_X9 ... LocationID_X916\n",
       "1 0           0           0           0           ... 0              \n",
       "2 0           0           0           0           ... 0              \n",
       "3 0           0           0           0           ... 0              \n",
       "4 0           0           0           0           ... 0              \n",
       "5 0           0           0           0           ... 0              \n",
       "6 0           0           0           0           ... 0              \n",
       "  LocationID_X917 LocationID_X918 LocationID_X919 LocationID_X920 Promotion_X2\n",
       "1 0               0               0               0               0           \n",
       "2 0               0               0               0               0           \n",
       "3 0               0               0               0               0           \n",
       "4 0               0               0               0               1           \n",
       "5 0               0               0               0               1           \n",
       "6 0               0               0               0               1           \n",
       "  Promotion_X3 Week_X2 Week_X3 Week_X4\n",
       "1 1            1       0       0      \n",
       "2 1            0       1       0      \n",
       "3 1            0       0       1      \n",
       "4 0            0       0       0      \n",
       "5 0            1       0       0      \n",
       "6 0            0       1       0      "
      ]
     },
     "metadata": {},
     "output_type": "display_data"
    }
   ],
   "source": [
    "cat_features <- c(\"MarketID\", \"MarketSize\", \"LocationID\",\n",
    "                  \"Promotion\", \"Week\")\n",
    "\n",
    "# Convert all cat_features to factors\n",
    "data[,cat_features] <- lapply(data[,cat_features] , factor)\n",
    "\n",
    "# Split the data into train and test\n",
    "train_test_split <- initial_split(data, prop = 0.8)\n",
    "train_tbl <- training(train_test_split)\n",
    "test_tbl  <- testing(train_test_split)\n",
    "\n",
    "\n",
    "# Use recipies package to dummy all categorical features\n",
    "rec_obj <- recipe(SalesInThousands~., data = train_tbl) %>%\n",
    "  step_dummy(all_nominal(), -all_outcomes()) %>%\n",
    "  prep(data = train_tbl)\n",
    "\n",
    "# Extract new data\n",
    "x_train_tbl <- bake(rec_obj, newdata = train_tbl)\n",
    "x_test_tbl  <- bake(rec_obj, newdata = test_tbl)\n",
    "\n",
    "head(x_train_tbl)"
   ]
  },
  {
   "cell_type": "markdown",
   "metadata": {},
   "source": [
    "### <u> <center> b. Variable Selection </center> </u>"
   ]
  },
  {
   "cell_type": "code",
   "execution_count": 5,
   "metadata": {},
   "outputs": [
    {
     "data": {
      "text/html": [
       "<ol class=list-inline>\n",
       "\t<li>439</li>\n",
       "\t<li>154</li>\n",
       "</ol>\n"
      ],
      "text/latex": [
       "\\begin{enumerate*}\n",
       "\\item 439\n",
       "\\item 154\n",
       "\\end{enumerate*}\n"
      ],
      "text/markdown": [
       "1. 439\n",
       "2. 154\n",
       "\n",
       "\n"
      ],
      "text/plain": [
       "[1] 439 154"
      ]
     },
     "metadata": {},
     "output_type": "display_data"
    }
   ],
   "source": [
    "dim(x_train_tbl)"
   ]
  },
  {
   "cell_type": "markdown",
   "metadata": {},
   "source": [
    "* We have 153 features, many of which are dummy variables.\n",
    "* We would want to reduce these features to ones which are the most important\n",
    "* Doing variable selection using **stepAIC** function from the **MASS** package.\n",
    "* **direction = \"both\"** indicates that both forward and backward selection will be performed and the model having the best AIC value will be selected"
   ]
  },
  {
   "cell_type": "code",
   "execution_count": 6,
   "metadata": {},
   "outputs": [
    {
     "data": {
      "text/plain": [
       "\n",
       "Call:\n",
       "lm(formula = SalesInThousands ~ AgeOfStore + MarketID_X2 + MarketID_X3 + \n",
       "    MarketID_X4 + MarketID_X5 + MarketID_X6 + MarketID_X7 + MarketID_X8 + \n",
       "    MarketID_X9 + MarketID_X10 + LocationID_X2 + LocationID_X3 + \n",
       "    LocationID_X7 + LocationID_X9 + LocationID_X12 + LocationID_X13 + \n",
       "    LocationID_X101 + LocationID_X103 + LocationID_X104 + LocationID_X201 + \n",
       "    LocationID_X204 + LocationID_X205 + LocationID_X207 + LocationID_X210 + \n",
       "    LocationID_X212 + LocationID_X213 + LocationID_X214 + LocationID_X215 + \n",
       "    LocationID_X216 + LocationID_X217 + LocationID_X219 + LocationID_X221 + \n",
       "    LocationID_X301 + LocationID_X303 + LocationID_X305 + LocationID_X306 + \n",
       "    LocationID_X307 + LocationID_X308 + LocationID_X401 + LocationID_X402 + \n",
       "    LocationID_X404 + LocationID_X405 + LocationID_X406 + LocationID_X407 + \n",
       "    LocationID_X408 + LocationID_X411 + LocationID_X413 + LocationID_X414 + \n",
       "    LocationID_X501 + LocationID_X502 + LocationID_X503 + LocationID_X505 + \n",
       "    LocationID_X507 + LocationID_X508 + LocationID_X510 + LocationID_X511 + \n",
       "    LocationID_X601 + LocationID_X602 + LocationID_X603 + LocationID_X604 + \n",
       "    LocationID_X605 + LocationID_X606 + LocationID_X608 + LocationID_X609 + \n",
       "    LocationID_X610 + LocationID_X611 + LocationID_X612 + LocationID_X613 + \n",
       "    LocationID_X701 + LocationID_X702 + LocationID_X704 + LocationID_X705 + \n",
       "    LocationID_X706 + LocationID_X709 + LocationID_X710 + LocationID_X801 + \n",
       "    LocationID_X802 + LocationID_X803 + LocationID_X804 + LocationID_X805 + \n",
       "    LocationID_X806 + LocationID_X807 + LocationID_X808 + LocationID_X809 + \n",
       "    LocationID_X901 + LocationID_X907 + LocationID_X908 + LocationID_X911 + \n",
       "    LocationID_X912 + LocationID_X913 + LocationID_X914 + LocationID_X916 + \n",
       "    LocationID_X917, data = x_train_tbl)\n",
       "\n",
       "Residuals:\n",
       "     Min       1Q   Median       3Q      Max \n",
       "-11.3832  -2.8767   0.1733   2.6382  15.9930 \n",
       "\n",
       "Coefficients:\n",
       "                Estimate Std. Error t value Pr(>|t|)    \n",
       "(Intercept)      38.7784     1.2314  31.491  < 2e-16 ***\n",
       "AgeOfStore       -0.9878     0.0982 -10.059  < 2e-16 ***\n",
       "MarketID_X2      29.3775     2.1329  13.773  < 2e-16 ***\n",
       "MarketID_X3      55.8918     1.4120  39.582  < 2e-16 ***\n",
       "MarketID_X4      23.0164     1.9475  11.819  < 2e-16 ***\n",
       "MarketID_X5      24.0079     1.7064  14.069  < 2e-16 ***\n",
       "MarketID_X6       7.8890     1.4822   5.323 1.85e-07 ***\n",
       "MarketID_X7       5.3230     1.9686   2.704 0.007192 ** \n",
       "MarketID_X8      17.3159     1.5871  10.911  < 2e-16 ***\n",
       "MarketID_X9      30.1383     2.7439  10.984  < 2e-16 ***\n",
       "MarketID_X10     23.4323     1.3415  17.467  < 2e-16 ***\n",
       "LocationID_X2    -4.2943     2.6754  -1.605 0.109383    \n",
       "LocationID_X3     9.4205     3.6676   2.569 0.010631 *  \n",
       "LocationID_X7    19.2815     2.7955   6.897 2.54e-11 ***\n",
       "LocationID_X9     6.6636     2.6714   2.494 0.013085 *  \n",
       "LocationID_X12   11.0155     3.0704   3.588 0.000382 ***\n",
       "LocationID_X13   17.2788     3.0704   5.628 3.79e-08 ***\n",
       "LocationID_X101  20.7329     3.6913   5.617 4.01e-08 ***\n",
       "LocationID_X103  15.8295     3.6913   4.288 2.34e-05 ***\n",
       "LocationID_X104  12.5994     3.5850   3.514 0.000499 ***\n",
       "LocationID_X201  -9.4114     2.6497  -3.552 0.000436 ***\n",
       "LocationID_X204  -7.9023     3.0492  -2.592 0.009959 ** \n",
       "LocationID_X205  11.7951     3.2115   3.673 0.000278 ***\n",
       "LocationID_X207  -7.5198     2.6992  -2.786 0.005632 ** \n",
       "LocationID_X210  13.3610     2.8812   4.637 5.02e-06 ***\n",
       "LocationID_X212 -15.5867     5.0197  -3.105 0.002060 ** \n",
       "LocationID_X213 -11.6289     3.6134  -3.218 0.001412 ** \n",
       "LocationID_X214  -4.5177     2.9972  -1.507 0.132649    \n",
       "LocationID_X215  -7.4921     2.9903  -2.505 0.012689 *  \n",
       "LocationID_X216  -4.6964     2.6497  -1.772 0.077212 .  \n",
       "LocationID_X217  -4.8260     2.6403  -1.828 0.068442 .  \n",
       "LocationID_X219 -10.7329     2.6325  -4.077 5.67e-05 ***\n",
       "LocationID_X221   4.4731     3.3746   1.326 0.185876    \n",
       "LocationID_X301 -11.5436     3.3047  -3.493 0.000539 ***\n",
       "LocationID_X303   5.9831     2.9733   2.012 0.044964 *  \n",
       "LocationID_X305  -9.6892     3.8560  -2.513 0.012434 *  \n",
       "LocationID_X306  13.0035     3.3587   3.872 0.000129 ***\n",
       "LocationID_X307  -9.3601     3.2793  -2.854 0.004574 ** \n",
       "LocationID_X308  18.1492     3.6911   4.917 1.36e-06 ***\n",
       "LocationID_X401  -8.8072     2.8312  -3.111 0.002022 ** \n",
       "LocationID_X402   7.3343     3.0793   2.382 0.017768 *  \n",
       "LocationID_X404  -9.0287     3.7121  -2.432 0.015514 *  \n",
       "LocationID_X405 -11.2183     3.1870  -3.520 0.000489 ***\n",
       "LocationID_X406 -13.6261     3.2102  -4.245 2.82e-05 ***\n",
       "LocationID_X407  -9.1593     3.1493  -2.908 0.003868 ** \n",
       "LocationID_X408  -9.5659     2.7734  -3.449 0.000632 ***\n",
       "LocationID_X411  12.7836     3.8761   3.298 0.001075 ** \n",
       "LocationID_X413 -13.0610     2.9409  -4.441 1.21e-05 ***\n",
       "LocationID_X414  -6.5184     2.9409  -2.217 0.027308 *  \n",
       "LocationID_X501  -6.0255     3.6303  -1.660 0.097874 .  \n",
       "LocationID_X502   4.9187     2.9174   1.686 0.092703 .  \n",
       "LocationID_X503  -5.3267     3.6626  -1.454 0.146752    \n",
       "LocationID_X505  -7.3629     3.0818  -2.389 0.017424 *  \n",
       "LocationID_X507 -13.5858     2.6783  -5.072 6.43e-07 ***\n",
       "LocationID_X508  -8.3283     3.0307  -2.748 0.006312 ** \n",
       "LocationID_X510 -10.9376     3.6289  -3.014 0.002769 ** \n",
       "LocationID_X511  20.2003     3.4521   5.852 1.13e-08 ***\n",
       "LocationID_X601   6.6284     2.9733   2.229 0.026435 *  \n",
       "LocationID_X602   5.7132     3.2761   1.744 0.082070 .  \n",
       "LocationID_X603  -5.0168     3.2761  -1.531 0.126612    \n",
       "LocationID_X604  10.7896     3.0445   3.544 0.000448 ***\n",
       "LocationID_X605   7.4312     3.8671   1.922 0.055472 .  \n",
       "LocationID_X606   5.3637     2.9864   1.796 0.073361 .  \n",
       "LocationID_X608  24.3227     3.5740   6.805 4.47e-11 ***\n",
       "LocationID_X609  14.4090     3.3208   4.339 1.88e-05 ***\n",
       "LocationID_X610  10.1032     3.2761   3.084 0.002208 ** \n",
       "LocationID_X611  13.4747     3.0445   4.426 1.29e-05 ***\n",
       "LocationID_X612   6.2864     3.2845   1.914 0.056450 .  \n",
       "LocationID_X613  24.1994     5.3730   4.504 9.14e-06 ***\n",
       "LocationID_X701  -6.6631     3.1318  -2.128 0.034082 *  \n",
       "LocationID_X702   6.1341     3.1340   1.957 0.051121 .  \n",
       "LocationID_X704  25.0802     3.6535   6.865 3.11e-11 ***\n",
       "LocationID_X705  14.6378     3.4139   4.288 2.35e-05 ***\n",
       "LocationID_X706  10.6362     2.9037   3.663 0.000288 ***\n",
       "LocationID_X709 -12.2165     2.7922  -4.375 1.61e-05 ***\n",
       "LocationID_X710  17.3534     3.2035   5.417 1.14e-07 ***\n",
       "LocationID_X801  -9.3182     3.6105  -2.581 0.010268 *  \n",
       "LocationID_X802 -13.5663     4.2733  -3.175 0.001635 ** \n",
       "LocationID_X803 -10.3485     3.4869  -2.968 0.003209 ** \n",
       "LocationID_X804 -10.6339     3.6688  -2.898 0.003990 ** \n",
       "LocationID_X805 -10.4548     3.5417  -2.952 0.003375 ** \n",
       "LocationID_X806 -12.7642     3.8341  -3.329 0.000965 ***\n",
       "LocationID_X807 -16.7539     3.6688  -4.567 6.91e-06 ***\n",
       "LocationID_X808   9.7297     3.8152   2.550 0.011196 *  \n",
       "LocationID_X809 -11.8688     3.4965  -3.394 0.000768 ***\n",
       "LocationID_X901  -6.8009     2.5978  -2.618 0.009235 ** \n",
       "LocationID_X907  -4.1725     2.6315  -1.586 0.113743    \n",
       "LocationID_X908 -12.1847     2.6046  -4.678 4.16e-06 ***\n",
       "LocationID_X911 -10.3329     2.9882  -3.458 0.000612 ***\n",
       "LocationID_X912  -8.8904     2.9564  -3.007 0.002830 ** \n",
       "LocationID_X913  21.9870     3.1688   6.939 1.97e-11 ***\n",
       "LocationID_X914  -6.7203     2.6166  -2.568 0.010639 *  \n",
       "LocationID_X916  -7.5359     2.5978  -2.901 0.003960 ** \n",
       "LocationID_X917   4.9655     3.0727   1.616 0.107004    \n",
       "---\n",
       "Signif. codes:  0 '***' 0.001 '**' 0.01 '*' 0.05 '.' 0.1 ' ' 1\n",
       "\n",
       "Residual standard error: 4.914 on 345 degrees of freedom\n",
       "Multiple R-squared:  0.9302,\tAdjusted R-squared:  0.9114 \n",
       "F-statistic: 49.44 on 93 and 345 DF,  p-value: < 2.2e-16\n"
      ]
     },
     "metadata": {},
     "output_type": "display_data"
    }
   ],
   "source": [
    "linear_model = lm(SalesInThousands~., data=x_train_tbl)\n",
    "\n",
    "step_model_both = stepAIC(linear_model, direction = \"both\", \n",
    "                             trace = FALSE)\n",
    "\n",
    "summary(step_model_both)"
   ]
  },
  {
   "cell_type": "markdown",
   "metadata": {},
   "source": [
    "* The above list shows all the features which were selected in the best linear regression model.\n",
    "* Model has good Adj. R2 92.08% which means the variables we are using is explaining 92% of the variation in Sales. Next question is which variables and what values of those variables are making the most impact?\n",
    "* Variables showing to be affecting Sales are **All Market IDs, few location IDs, Promotion X2 and X3** according to the t-Test for individual significance. \n",
    "* **MarketSize** dummy variables were thrown out of the model in variable selection which indicates MarketSize is not very related to the Sales, so we may want to reduce or eliminate its importance while making any product launch decisions.\n",
    "\n",
    "\n",
    "* To check whether these results can indeed be trusted we will have to check the collinearity structure among features as well as influential observations.\n",
    "* Also, the linearity assumptions."
   ]
  },
  {
   "cell_type": "markdown",
   "metadata": {},
   "source": [
    "### <u> <center> c. Checking collinearity and infulential observations </center> </u>\n",
    "\n",
    "* Multicollinearity can affect linear regression results. Multicollinearity arises when predictors are correlated among themselves. There are two ways to test Multicollinearity, first we can check correlations amongst predictors or we can use VIF metric to quantify multicollinearity for each feature.\n",
    "* Since we have a lot of dummy features, it is advised to use VIF than correlations because correlations of dummy variables are very sensitive. More on that in this SE post https://stats.stackexchange.com/questions/67309/how-to-test-for-multicollinearity-among-dummy-explanatory-variables\n",
    "* Also let us check Influential observations using leverage and cooks distance"
   ]
  },
  {
   "cell_type": "code",
   "execution_count": 7,
   "metadata": {},
   "outputs": [
    {
     "data": {
      "text/plain": [
       "   Min. 1st Qu.  Median    Mean 3rd Qu.    Max. \n",
       "  1.041   1.163   1.325   1.799   1.647  10.306 "
      ]
     },
     "metadata": {},
     "output_type": "display_data"
    }
   ],
   "source": [
    "suppressMessages(library(car))\n",
    "\n",
    "vif_step_both = car::vif(step_model_both)\n",
    "summary(vif_step_both)"
   ]
  },
  {
   "cell_type": "markdown",
   "metadata": {},
   "source": [
    "* Maximum VIF amongst all features is 3.688. A VIF of 5 indicates mild MColin and that of 10 indicates strong MColin.\n",
    "* So no multicollinearity is present which is great news. This indicates our coefficients can be trusted upon till now.\n",
    "\n",
    "* Now lets check leverage and cooks distance\n",
    "* Leverage values greater than 3(m+1)/n are supposed to be a red flag. Here m = 45 and n = 439 so our cutoff is 0.307"
   ]
  },
  {
   "cell_type": "code",
   "execution_count": 8,
   "metadata": {},
   "outputs": [
    {
     "data": {
      "text/html": [
       "<ol class=list-inline>\n",
       "\t<li>124</li>\n",
       "\t<li>154</li>\n",
       "</ol>\n"
      ],
      "text/latex": [
       "\\begin{enumerate*}\n",
       "\\item 124\n",
       "\\item 154\n",
       "\\end{enumerate*}\n"
      ],
      "text/markdown": [
       "1. 124\n",
       "2. 154\n",
       "\n",
       "\n"
      ],
      "text/plain": [
       "[1] 124 154"
      ]
     },
     "metadata": {},
     "output_type": "display_data"
    }
   ],
   "source": [
    "lev = hat(model.matrix(step_model_both))\n",
    "dim(x_train_tbl[lev > 0.307,])"
   ]
  },
  {
   "cell_type": "markdown",
   "metadata": {},
   "source": [
    "**Leverage**\n",
    "\n",
    "* Leverage gives us a measure of how a particularly far away is the value of a particular indepedent variables vector in its own space.\n",
    "* We are getting 56 points which have a high leverage. Lets go ahead and check their influentiality (how much they change the regression equation) in order to see if we want to take action on them.\n",
    "* Note that Influentiality measure **Cooks distance**  takes Leverage into account as well as a measure of outlierness of a row.\n",
    "* Difference between leverage, outliers and influential observations is that leverage takes into account how far away a point is in Predictor space, outlier takes into account how far away a point is in Y-space and influentiality judges if leverage and outlierness together of points are affecting the regression equation.\n",
    "\n",
    "**Influentiality - Cooks Distance**\n",
    "\n"
   ]
  },
  {
   "cell_type": "code",
   "execution_count": 9,
   "metadata": {},
   "outputs": [
    {
     "data": {
      "text/plain": [
       "     Min.   1st Qu.    Median      Mean   3rd Qu.      Max.      NA's \n",
       "0.0000000 0.0001641 0.0009391 0.0029858 0.0034711 0.0321290         2 "
      ]
     },
     "metadata": {},
     "output_type": "display_data"
    }
   ],
   "source": [
    "cook = cooks.distance(step_model_both)\n",
    "summary(cook)"
   ]
  },
  {
   "cell_type": "markdown",
   "metadata": {},
   "source": [
    "* No point has a cooks distance above 0.1 which is our threshold.\n",
    "* I calculated threshold using the formula **N/(N-k-1)** which equals 0.1. N = 439, k = 45.\n",
    "* The idea for this threshold formula is explained in this post https://stats.stackexchange.com/questions/22161/how-to-read-cooks-distance-plots\n",
    "* Since there is no influentiality of any observations, we can ignore the leverage for now.\n",
    "* Also note that leverage formula takes into account the deviations from the mean of our features. In our dataset there are a lot of indicator features so they might be causing the leverages to inflate too but can't say for sure. Anyway, I have decided to move further since there is no influenciality.\n",
    "\n",
    "### <u> <center> d. Checking regression assumptions </center> </u>\n",
    "\n",
    "#### 1. Normal Probability Plot of Residuals"
   ]
  },
  {
   "cell_type": "code",
   "execution_count": 10,
   "metadata": {},
   "outputs": [
    {
     "data": {
      "image/png": "[encoded data removed]",
      "text/plain": [
       "Plot with title \"Sales In Thousands\""
      ]
     },
     "metadata": {},
     "output_type": "display_data"
    }
   ],
   "source": [
    "sales_stdres = rstandard(step_model_both)\n",
    "qqnorm(sales_stdres, \n",
    "     ylab=\"Standardized Residuals\", \n",
    "     xlab=\"Normal Scores\", \n",
    "     main=\"Sales In Thousands\") \n",
    "qqline(sales_stdres)"
   ]
  },
  {
   "cell_type": "markdown",
   "metadata": {},
   "source": [
    "* The residuals look pretty normally distributed. Lets run an additional **Anderson-Darling test** on this data for which the null hypothesis is that the errors are normally distributed."
   ]
  },
  {
   "cell_type": "code",
   "execution_count": 11,
   "metadata": {},
   "outputs": [
    {
     "data": {
      "text/plain": [
       "\n",
       "\tAnderson-Darling normality test\n",
       "\n",
       "data:  sales_stdres\n",
       "A = 0.18041, p-value = 0.915\n"
      ]
     },
     "metadata": {},
     "output_type": "display_data"
    }
   ],
   "source": [
    "suppressMessages(library(nortest))\n",
    "ad.test(sales_stdres)"
   ]
  },
  {
   "cell_type": "markdown",
   "metadata": {},
   "source": [
    "* We can accept the Null hypothesis and conclude that there is normality in errors. So one assumption is satisfied.\n",
    "\n",
    "#### 2. Scatterplot of Standardized residuals and fitted values"
   ]
  },
  {
   "cell_type": "code",
   "execution_count": 12,
   "metadata": {},
   "outputs": [
    {
     "data": {
      "text/html": [
       "<table>\n",
       "<thead><tr><th scope=col>sales_stdres</th><th scope=col>fitted</th></tr></thead>\n",
       "<tbody>\n",
       "\t<tr><td> 0.1758337</td><td>34.82708  </td></tr>\n",
       "\t<tr><td>-1.2092808</td><td>34.82708  </td></tr>\n",
       "\t<tr><td> 0.9226274</td><td>34.82708  </td></tr>\n",
       "\t<tr><td>-0.4077312</td><td>29.54500  </td></tr>\n",
       "\t<tr><td> 1.2043932</td><td>29.54500  </td></tr>\n",
       "\t<tr><td>-0.3677806</td><td>29.54500  </td></tr>\n",
       "</tbody>\n",
       "</table>\n"
      ],
      "text/latex": [
       "\\begin{tabular}{r|ll}\n",
       " sales\\_stdres & fitted\\\\\n",
       "\\hline\n",
       "\t  0.1758337 & 34.82708  \\\\\n",
       "\t -1.2092808 & 34.82708  \\\\\n",
       "\t  0.9226274 & 34.82708  \\\\\n",
       "\t -0.4077312 & 29.54500  \\\\\n",
       "\t  1.2043932 & 29.54500  \\\\\n",
       "\t -0.3677806 & 29.54500  \\\\\n",
       "\\end{tabular}\n"
      ],
      "text/markdown": [
       "\n",
       "sales_stdres | fitted | \n",
       "|---|---|---|---|---|---|\n",
       "|  0.1758337 | 34.82708   | \n",
       "| -1.2092808 | 34.82708   | \n",
       "|  0.9226274 | 34.82708   | \n",
       "| -0.4077312 | 29.54500   | \n",
       "|  1.2043932 | 29.54500   | \n",
       "| -0.3677806 | 29.54500   | \n",
       "\n",
       "\n"
      ],
      "text/plain": [
       "  sales_stdres fitted  \n",
       "1  0.1758337   34.82708\n",
       "2 -1.2092808   34.82708\n",
       "3  0.9226274   34.82708\n",
       "4 -0.4077312   29.54500\n",
       "5  1.2043932   29.54500\n",
       "6 -0.3677806   29.54500"
      ]
     },
     "metadata": {},
     "output_type": "display_data"
    }
   ],
   "source": [
    "resid_fitted_plot_df <- data.frame(sales_stdres=sales_stdres,\n",
    "                                   fitted=as.numeric(fitted(step_model_both)))\n",
    "head(resid_fitted_plot_df)"
   ]
  },
  {
   "cell_type": "code",
   "execution_count": 13,
   "metadata": {},
   "outputs": [
    {
     "name": "stderr",
     "output_type": "stream",
     "text": [
      "Warning message:\n",
      "\"Removed 2 rows containing missing values (geom_point).\""
     ]
    },
    {
     "data": {},
     "metadata": {},
     "output_type": "display_data"
    },
    {
     "data": {
      "image/png": "[encoded data removed]",
      "text/plain": [
       "plot without title"
      ]
     },
     "metadata": {},
     "output_type": "display_data"
    }
   ],
   "source": [
    "ggplot(data=resid_fitted_plot_df, aes(x=fitted, y=sales_stdres)) +\n",
    "    geom_point(colour=\"red\") + geom_hline(yintercept = 0)"
   ]
  },
  {
   "cell_type": "markdown",
   "metadata": {},
   "source": [
    "* The plot is randomly scattered meaning that residuals are homoskedastic.\n",
    "* There is no violation of regression assumptions\n",
    "\n",
    "### <u> <center> e. Report the results </center> </u>\n",
    "\n",
    "**Findings:**\n",
    "\n",
    "estimated difference in nutritional rating for cereals located on shelf 1 compared to the cereals on shelf 3\n",
    "\n",
    "1. Estimated difference in Product Sales for product sold in Market 3 is USD 49 more than those sold in Market 1 when all other variables are held constant."
   ]
  }
 ],
 "metadata": {
  "kernelspec": {
   "display_name": "R",
   "language": "R",
   "name": "ir"
  },
  "language_info": {
   "codemirror_mode": "r",
   "file_extension": ".r",
   "mimetype": "text/x-r-source",
   "name": "R",
   "pygments_lexer": "r",
   "version": "3.4.2"
  }
 },
 "nbformat": 4,
 "nbformat_minor": 2
}
