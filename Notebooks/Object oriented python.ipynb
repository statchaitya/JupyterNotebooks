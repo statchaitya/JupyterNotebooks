{
 "cells": [
  {
   "cell_type": "markdown",
   "metadata": {},
   "source": [
    "## Notebook about OOPs concepts in Python 3"
   ]
  },
  {
   "cell_type": "code",
   "execution_count": 5,
   "metadata": {},
   "outputs": [],
   "source": [
    "class Locomotive:\n",
    "    \n",
    "    def __init__(self, shed, number, locotype, diesel_or_electric, locotype_sub_code):\n",
    "        \n",
    "        # Class invariants\n",
    "        \n",
    "        if not shed.isalpha():\n",
    "            raise ValueError(\"Not a valid shed\")\n",
    "        elif not shed in ['Kalyan', 'Ghaziabad', 'Howrah', 'Pune']:\n",
    "            raise ValueError(\"Unsupported shed\")\n",
    "        \n",
    "        self._shed = shed\n",
    "        self._number = number\n",
    "        self._locotype = locotype\n",
    "        self._diesel_or_electric = diesel_or_electric\n",
    "        self._locotype_sub_code = locotype_sub_code\n",
    "        \n",
    "        self._full_loco_type_name\n",
    "    \n",
    "    def maximum_permissible_speed(self):\n",
    "        \n",
    "        \n",
    "        \n",
    "        if self._diesel_or_electric == \"Electric\":\n",
    "            if self._locotype.lower() + self._locotype_sub_code.lower() in ['wap7', 'wap5', 'wap4']:\n",
    "                if self._locotype + self._locotype_sub_code == 'wap7':\n",
    "                    print(\"130 kilometers per hour\")\n",
    "                elif self._locotype + self._locotype_sub_code == 'wap4':\n",
    "                    print(\"130 kilometers per hour OR 110 kilometers per hour\")\n",
    "                else:\n",
    "                    print(\"150 kilometers per hour\")\n",
    "            \n",
    "            elif self._locotype + self._locotype_sub_code in ['wcam2', 'wcam3', 'wcam1', 'wcag1']:\n",
    "                if self._locotype + self._locotype_sub_code in ['wcam2', 'wcam3']:\n",
    "                    print(\"105 kmph\")\n",
    "                else:\n",
    "                    print(\"100 kmph\")\n",
    "        else:\n",
    "            print(\"Method does not support diesel locomotives yet\")\n",
    "    "
   ]
  },
  {
   "cell_type": "code",
   "execution_count": 6,
   "metadata": {},
   "outputs": [],
   "source": [
    "wcam3_21937 = Locomotive(\"Kalyan\", 21937, \"WCAM\", \"Electric\", \"3\")\n",
    "wcam3_21937.maximum_permissible_speed()"
   ]
  },
  {
   "cell_type": "code",
   "execution_count": 7,
   "metadata": {},
   "outputs": [
    {
     "data": {
      "text/plain": [
       "'WCAM'"
      ]
     },
     "execution_count": 7,
     "metadata": {},
     "output_type": "execute_result"
    }
   ],
   "source": [
    "wcam3_21937._locotype"
   ]
  }
 ],
 "metadata": {
  "kernelspec": {
   "display_name": "Python 3",
   "language": "python",
   "name": "python3"
  },
  "language_info": {
   "codemirror_mode": {
    "name": "ipython",
    "version": 3
   },
   "file_extension": ".py",
   "mimetype": "text/x-python",
   "name": "python",
   "nbconvert_exporter": "python",
   "pygments_lexer": "ipython3",
   "version": "3.6.5"
  }
 },
 "nbformat": 4,
 "nbformat_minor": 4
}
