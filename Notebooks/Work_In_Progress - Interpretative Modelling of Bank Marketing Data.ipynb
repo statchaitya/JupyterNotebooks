{
 "cells": [
  {
   "cell_type": "markdown",
   "metadata": {},
   "source": [
    "# Interpretative Analysis of Marketing Campaigns\n",
    "\n",
    "* For binary classification problems, there are two ways in which we can use the models.\n",
    "* In the first way we implement black-box models in production and take actions based on their results.\n",
    "* In the second way, we use interpretative models such as logistic regression to extract insights about the relationships of various features with response. These insights can then be used to drive the strategy.\n",
    "* In this kernel I will attempt to do the latter."
   ]
  },
  {
   "cell_type": "code",
   "execution_count": 1,
   "metadata": {},
   "outputs": [],
   "source": [
    "import warnings\n",
    "warnings.filterwarnings(\"ignore\")\n",
    "\n",
    "# Importing libraries\n",
    "import pandas as pd\n",
    "import numpy as np\n",
    "\n",
    "from sklearn.model_selection import train_test_split\n",
    "from sklearn.linear_model import LogisticRegression"
   ]
  },
  {
   "cell_type": "code",
   "execution_count": 3,
   "metadata": {},
   "outputs": [],
   "source": [
    "data = pd.read_csv(\"../bank-additional/bank-additional-full.csv\", sep=\";\")\n",
    "# Firstly, lets change the name of the target column as well as the 'yes' level to a more meaningful name\n",
    "data['y'].replace({'yes': 'term_deposit'}, inplace=True)\n",
    "\n",
    "data.drop(['month', 'day_of_week', 'duration'], axis=1, inplace=True)\n",
    "\n",
    "y = data['y']\n",
    "#encode_y = LabelEncoder()\n",
    "#y_encoded = encode_y.fit_transform(y)\n",
    "\n",
    "data.drop('y', axis=1, inplace=True)\n",
    "\n",
    "data = pd.get_dummies(data)\n",
    "\n",
    "X_train, X_test, y_train, y_test = train_test_split(data, y, test_size=0.1, random_state=123)"
   ]
  }
 ],
 "metadata": {
  "kernelspec": {
   "display_name": "Python 3",
   "language": "python",
   "name": "python3"
  },
  "language_info": {
   "codemirror_mode": {
    "name": "ipython",
    "version": 3
   },
   "file_extension": ".py",
   "mimetype": "text/x-python",
   "name": "python",
   "nbconvert_exporter": "python",
   "pygments_lexer": "ipython3",
   "version": "3.6.5"
  }
 },
 "nbformat": 4,
 "nbformat_minor": 2
}
