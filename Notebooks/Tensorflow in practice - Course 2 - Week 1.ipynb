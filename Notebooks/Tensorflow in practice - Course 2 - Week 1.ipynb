{
 "cells": [
  {
   "cell_type": "markdown",
   "metadata": {},
   "source": [
    "# Tensorflow in Practice: Course 2 - Week 1"
   ]
  },
  {
   "cell_type": "code",
   "execution_count": 1,
   "metadata": {},
   "outputs": [
    {
     "name": "stdout",
     "output_type": "stream",
     "text": [
      "Found 4000 images belonging to 2 classes.\n",
      "Found 2000 images belonging to 2 classes.\n"
     ]
    }
   ],
   "source": [
    "import tensorflow as tf\n",
    "import os\n",
    "from tensorflow.keras.preprocessing.image import ImageDataGenerator\n",
    "\n",
    "images_directory = 'C:\\\\DataScience\\\\Kaggle\\\\dogs_vs_cats\\\\train\\\\subset'\n",
    "\n",
    "# rescale param rescales all images by the param i.e. by 1/255\n",
    "idgen_object_train = ImageDataGenerator(rescale=1./255)\n",
    "idgen_object_valid = ImageDataGenerator(rescale=1./255)\n",
    "\n",
    "train_data_generator = idgen_object_train.flow_from_directory(\\\n",
    "    os.path.join(images_directory, \"training\"),\\\n",
    "    target_size = (150, 150),\\\n",
    "    batch_size = 20,\\\n",
    "    class_mode = 'binary')\n",
    "\n",
    "valid_data_generator = idgen_object_train.flow_from_directory(\\\n",
    "    os.path.join(images_directory, \"validation\"),\\\n",
    "    target_size = (150, 150),\\\n",
    "    batch_size = 20,\\\n",
    "    class_mode = 'binary')"
   ]
  },
  {
   "cell_type": "code",
   "execution_count": 3,
   "metadata": {},
   "outputs": [],
   "source": [
    "model = tf.keras.models.Sequential([\n",
    "    tf.keras.layers.Conv2D(64, (3,3), activation='relu', input_shape=(150, 150, 3)),\n",
    "    tf.keras.layers.MaxPooling2D(2, 2),\n",
    "    tf.keras.layers.Conv2D(64, (3,3), activation='relu'),\n",
    "    tf.keras.layers.MaxPooling2D(2, 2),\n",
    "    tf.keras.layers.Flatten(),\n",
    "    tf.keras.layers.Dense(56, activation='relu'),\n",
    "    tf.keras.layers.Dense(1, activation='sigmoid')\n",
    "])"
   ]
  },
  {
   "cell_type": "code",
   "execution_count": 4,
   "metadata": {},
   "outputs": [],
   "source": [
    "class myCallBack(tf.keras.callbacks.Callback):\n",
    "    \n",
    "    def on_epoch_end(self, epochs, logs={}):\n",
    "        if logs.get('val_acc') > 0.90:\n",
    "            self.model.stop_training = True\n",
    "\n",
    "model.compile(loss='binary_crossentropy',\\\n",
    "    optimizer=tf.optimizers.RMSprop(lr=1e-4),\\\n",
    "    metrics=['acc'])"
   ]
  },
  {
   "cell_type": "code",
   "execution_count": 5,
   "metadata": {},
   "outputs": [
    {
     "name": "stdout",
     "output_type": "stream",
     "text": [
      "WARNING:tensorflow:From <ipython-input-5-f1749b0668f6>:7: Model.fit_generator (from tensorflow.python.keras.engine.training) is deprecated and will be removed in a future version.\n",
      "Instructions for updating:\n",
      "Please use Model.fit, which supports generators.\n",
      "Epoch 1/5\n",
      "100/100 [==============================] - 105s 1s/step - loss: 0.6991 - acc: 0.5550 - val_loss: 0.6661 - val_acc: 0.5620\n",
      "Epoch 2/5\n",
      "100/100 [==============================] - 146s 1s/step - loss: 0.6567 - acc: 0.6075 - val_loss: 0.6612 - val_acc: 0.5790\n",
      "Epoch 3/5\n",
      "100/100 [==============================] - 117s 1s/step - loss: 0.6207 - acc: 0.6515 - val_loss: 0.6276 - val_acc: 0.6460\n",
      "Epoch 4/5\n",
      "100/100 [==============================] - 181s 2s/step - loss: 0.5957 - acc: 0.6805 - val_loss: 0.6280 - val_acc: 0.6340\n",
      "Epoch 5/5\n",
      "100/100 [==============================] - 127s 1s/step - loss: 0.5784 - acc: 0.6965 - val_loss: 0.6001 - val_acc: 0.6750\n"
     ]
    }
   ],
   "source": [
    "history = model.fit_generator(\\\n",
    "                             train_data_generator,\\\n",
    "                             steps_per_epoch=100,\\\n",
    "                             epochs=5,\\\n",
    "                             validation_data=valid_data_generator,\\\n",
    "                             validation_steps=50,\n",
    "                             callbacks=[myCallBack()])"
   ]
  },
  {
   "cell_type": "code",
   "execution_count": 6,
   "metadata": {},
   "outputs": [
    {
     "name": "stdout",
     "output_type": "stream",
     "text": [
      "Epoch 1/10\n",
      "100/100 [==============================] - 144s 1s/step - loss: 0.5660 - acc: 0.7070 - val_loss: 0.5923 - val_acc: 0.6840\n",
      "Epoch 2/10\n",
      "100/100 [==============================] - 142s 1s/step - loss: 0.5568 - acc: 0.7180 - val_loss: 0.5730 - val_acc: 0.7020\n",
      "Epoch 3/10\n",
      "100/100 [==============================] - 118s 1s/step - loss: 0.5191 - acc: 0.7510 - val_loss: 0.5731 - val_acc: 0.6940\n",
      "Epoch 4/10\n",
      "100/100 [==============================] - 118s 1s/step - loss: 0.5178 - acc: 0.7490 - val_loss: 0.5728 - val_acc: 0.6990\n",
      "Epoch 5/10\n",
      "100/100 [==============================] - 118s 1s/step - loss: 0.4950 - acc: 0.7615 - val_loss: 0.6293 - val_acc: 0.6650\n",
      "Epoch 6/10\n",
      "100/100 [==============================] - 140s 1s/step - loss: 0.4763 - acc: 0.7795 - val_loss: 0.5588 - val_acc: 0.7160\n",
      "Epoch 7/10\n",
      "100/100 [==============================] - 219s 2s/step - loss: 0.4718 - acc: 0.7815 - val_loss: 0.5616 - val_acc: 0.7100\n",
      "Epoch 8/10\n",
      "100/100 [==============================] - 170s 2s/step - loss: 0.4497 - acc: 0.8010 - val_loss: 0.5881 - val_acc: 0.7100\n",
      "Epoch 9/10\n",
      "100/100 [==============================] - 251s 3s/step - loss: 0.4419 - acc: 0.7990 - val_loss: 0.5491 - val_acc: 0.7270\n",
      "Epoch 10/10\n",
      "100/100 [==============================] - 143s 1s/step - loss: 0.4172 - acc: 0.8195 - val_loss: 0.5532 - val_acc: 0.7370\n"
     ]
    }
   ],
   "source": [
    "history = model.fit_generator(\\\n",
    "                             train_data_generator,\\\n",
    "                             steps_per_epoch=100,\\\n",
    "                             epochs=10,\\\n",
    "                             validation_data=valid_data_generator,\\\n",
    "                             validation_steps=50,\n",
    "                             callbacks=[myCallBack()])"
   ]
  },
  {
   "cell_type": "code",
   "execution_count": 7,
   "metadata": {},
   "outputs": [],
   "source": [
    "model.save('cats_and_dogs_small_1.h5')"
   ]
  },
  {
   "cell_type": "code",
   "execution_count": 9,
   "metadata": {},
   "outputs": [
    {
     "data": {
      "image/png": "[encoded data removed]",
      "text/plain": [
       "<Figure size 432x288 with 1 Axes>"
      ]
     },
     "metadata": {
      "needs_background": "light"
     },
     "output_type": "display_data"
    },
    {
     "data": {
      "image/png": "[encoded data removed]",
      "text/plain": [
       "<Figure size 432x288 with 1 Axes>"
      ]
     },
     "metadata": {
      "needs_background": "light"
     },
     "output_type": "display_data"
    }
   ],
   "source": [
    "import matplotlib.pyplot as plt\n",
    "%matplotlib inline\n",
    "acc = history.history['acc']\n",
    "val_acc = history.history['val_acc']\n",
    "loss = history.history['loss']\n",
    "val_loss = history.history['val_loss']\n",
    "epochs = range(1, len(acc) + 1)\n",
    "plt.plot(epochs, acc, 'bo', label='Training acc')\n",
    "plt.plot(epochs, val_acc, 'b', label='Validation acc')\n",
    "plt.title('Training and validation accuracy')\n",
    "plt.legend()\n",
    "plt.figure()\n",
    "plt.plot(epochs, loss, 'bo', label='Training loss')\n",
    "plt.plot(epochs, val_loss, 'b', label='Validation loss')\n",
    "plt.title('Training and validation loss')\n",
    "plt.legend()\n",
    "plt.show()"
   ]
  }
 ],
 "metadata": {
  "kernelspec": {
   "display_name": "Python 3",
   "language": "python",
   "name": "python3"
  },
  "language_info": {
   "codemirror_mode": {
    "name": "ipython",
    "version": 3
   },
   "file_extension": ".py",
   "mimetype": "text/x-python",
   "name": "python",
   "nbconvert_exporter": "python",
   "pygments_lexer": "ipython3",
   "version": "3.6.5"
  }
 },
 "nbformat": 4,
 "nbformat_minor": 4
}
